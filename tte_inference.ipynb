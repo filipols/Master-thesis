{
 "cells": [
  {
   "cell_type": "code",
   "execution_count": 1,
   "metadata": {},
   "outputs": [
    {
     "name": "stderr",
     "output_type": "stream",
     "text": [
      "/home/filip-marcus/models/ESGPT_new/esgpt-venv/lib/python3.10/site-packages/tqdm/auto.py:21: TqdmWarning: IProgress not found. Please update jupyter and ipywidgets. See https://ipywidgets.readthedocs.io/en/stable/user_install.html\n",
      "  from .autonotebook import tqdm as notebook_tqdm\n"
     ]
    }
   ],
   "source": [
    "from omegaconf import OmegaConf\n",
    "from torch.utils.data import DataLoader\n",
    "from EventStream.data.dataset_polars import Dataset\n",
    "from EventStream.evaluation.general_generative_evaluation import ESTForTrajectoryGeneration\n",
    "from EventStream.data.pytorch_dataset import PytorchDataset\n",
    "from EventStream.transformer.config import StructuredTransformerConfig"
   ]
  },
  {
   "cell_type": "code",
   "execution_count": 8,
   "metadata": {},
   "outputs": [
    {
     "name": "stdout",
     "output_type": "stream",
     "text": [
      "WARNING: For a conditionally_independent model, do_full_block_in_seq_attention is not used; got False. Setting to None.\n",
      "WARNING: For a conditionally_independent model, do_full_block_in_dep_graph_attention is not used; got True. Setting to None.\n",
      "WARNING: For a conditionally_independent model, dep_graph_window_size is not used; got 2. Setting to None.\n"
     ]
    },
    {
     "ename": "TypeError",
     "evalue": "'NoneType' object is not subscriptable",
     "output_type": "error",
     "traceback": [
      "\u001b[0;31m---------------------------------------------------------------------------\u001b[0m",
      "\u001b[0;31mTypeError\u001b[0m                                 Traceback (most recent call last)",
      "Cell \u001b[0;32mIn[8], line 11\u001b[0m\n\u001b[1;32m      1\u001b[0m cfg \u001b[38;5;241m=\u001b[39m StructuredTransformerConfig(\n\u001b[1;32m      2\u001b[0m     load_from_model_dir\u001b[38;5;241m=\u001b[39m \u001b[38;5;124m'\u001b[39m\u001b[38;5;124m/home/filip-marcus/models/ESGPT_new/EventStreamGPT/pretrain/eneryield_combined\u001b[39m\u001b[38;5;124m'\u001b[39m,\n\u001b[1;32m      3\u001b[0m     task_df_name\u001b[38;5;241m=\u001b[39m \u001b[38;5;124m'\u001b[39m\u001b[38;5;124mtask_df_eneryield_tte\u001b[39m\u001b[38;5;124m'\u001b[39m,\n\u001b[1;32m      4\u001b[0m     \u001b[38;5;66;03m# task_specific_params= {'num_samples': 2, \"max_new_events\": 2},\u001b[39;00m\n\u001b[1;32m      5\u001b[0m )\n\u001b[1;32m      7\u001b[0m pretrained_weights_fp \u001b[38;5;241m=\u001b[39m \u001b[38;5;124m'\u001b[39m\u001b[38;5;124m/home/filip-marcus/models/ESGPT_new/EventStreamGPT/pretrain/eneryield_combined/pretrained_weights\u001b[39m\u001b[38;5;124m'\u001b[39m\n\u001b[0;32m---> 11\u001b[0m model \u001b[38;5;241m=\u001b[39m \u001b[43mESTForTrajectoryGeneration\u001b[49m\u001b[43m(\u001b[49m\n\u001b[1;32m     12\u001b[0m \u001b[43m    \u001b[49m\u001b[43mconfig\u001b[49m\u001b[38;5;241;43m=\u001b[39;49m\u001b[43mcfg\u001b[49m\u001b[43m,\u001b[49m\n\u001b[1;32m     13\u001b[0m \u001b[43m    \u001b[49m\u001b[43mpretrained_weights_fp\u001b[49m\u001b[38;5;241;43m=\u001b[39;49m\u001b[43mpretrained_weights_fp\u001b[49m\n\u001b[1;32m     14\u001b[0m \u001b[43m)\u001b[49m\n\u001b[1;32m     17\u001b[0m held_out_pyd \u001b[38;5;241m=\u001b[39m PytorchDataset(cfg\u001b[38;5;241m.\u001b[39mdata_config, split\u001b[38;5;241m=\u001b[39m\u001b[38;5;124m\"\u001b[39m\u001b[38;5;124mheld_out\u001b[39m\u001b[38;5;124m\"\u001b[39m)\n\u001b[1;32m     20\u001b[0m generated_batch \u001b[38;5;241m=\u001b[39m model\u001b[38;5;241m.\u001b[39mpredict_step(\n\u001b[1;32m     21\u001b[0m     held_out_pyd\n\u001b[1;32m     22\u001b[0m )\n",
      "File \u001b[0;32m~/models/ESGPT_new/EventStreamGPT/EventStream/evaluation/general_generative_evaluation.py:54\u001b[0m, in \u001b[0;36mESTForTrajectoryGeneration.__init__\u001b[0;34m(self, config, pretrained_weights_fp)\u001b[0m\n\u001b[1;32m     51\u001b[0m     config \u001b[38;5;241m=\u001b[39m StructuredTransformerConfig(\u001b[38;5;241m*\u001b[39m\u001b[38;5;241m*\u001b[39mconfig)\n\u001b[1;32m     53\u001b[0m \u001b[38;5;28mself\u001b[39m\u001b[38;5;241m.\u001b[39mconfig \u001b[38;5;241m=\u001b[39m config\n\u001b[0;32m---> 54\u001b[0m \u001b[38;5;28mself\u001b[39m\u001b[38;5;241m.\u001b[39mnum_samples \u001b[38;5;241m=\u001b[39m \u001b[43mconfig\u001b[49m\u001b[38;5;241;43m.\u001b[39;49m\u001b[43mtask_specific_params\u001b[49m\u001b[43m[\u001b[49m\u001b[38;5;124;43m\"\u001b[39;49m\u001b[38;5;124;43mnum_samples\u001b[39;49m\u001b[38;5;124;43m\"\u001b[39;49m\u001b[43m]\u001b[49m\n\u001b[1;32m     55\u001b[0m \u001b[38;5;28mself\u001b[39m\u001b[38;5;241m.\u001b[39mmax_new_events \u001b[38;5;241m=\u001b[39m config\u001b[38;5;241m.\u001b[39mtask_specific_params[\u001b[38;5;124m\"\u001b[39m\u001b[38;5;124mmax_new_events\u001b[39m\u001b[38;5;124m\"\u001b[39m]\n\u001b[1;32m     57\u001b[0m \u001b[38;5;28mself\u001b[39m\u001b[38;5;241m.\u001b[39msave_hyperparameters({\u001b[38;5;124m\"\u001b[39m\u001b[38;5;124mconfig\u001b[39m\u001b[38;5;124m\"\u001b[39m: config\u001b[38;5;241m.\u001b[39mto_dict()})\n",
      "\u001b[0;31mTypeError\u001b[0m: 'NoneType' object is not subscriptable"
     ]
    }
   ],
   "source": [
    "\n",
    "\n",
    "\n",
    "cfg = StructuredTransformerConfig(\n",
    "    load_from_model_dir= '/home/filip-marcus/models/ESGPT_new/EventStreamGPT/pretrain/eneryield_combined',\n",
    "    task_df_name= 'task_df_eneryield_tte',\n",
    "    # task_specific_params= {'num_samples': 2, \"max_new_events\": 2},\n",
    ")\n",
    "\n",
    "pretrained_weights_fp = '/home/filip-marcus/models/ESGPT_new/EventStreamGPT/pretrain/eneryield_combined/pretrained_weights'\n",
    "\n",
    "\n",
    "\n",
    "model = ESTForTrajectoryGeneration(\n",
    "    config=cfg,\n",
    "    pretrained_weights_fp=pretrained_weights_fp\n",
    ")\n",
    "\n",
    "\n",
    "held_out_pyd = PytorchDataset(cfg.data_config, split=\"held_out\")\n",
    "\n",
    "\n",
    "generated_batch = model.predict_step(\n",
    "    held_out_pyd\n",
    ")\n",
    "\n",
    "print(generated_batch)"
   ]
  },
  {
   "cell_type": "code",
   "execution_count": null,
   "metadata": {},
   "outputs": [],
   "source": []
  }
 ],
 "metadata": {
  "kernelspec": {
   "display_name": "Python (esgpt-venv)",
   "language": "python",
   "name": "esgpt-venv"
  },
  "language_info": {
   "codemirror_mode": {
    "name": "ipython",
    "version": 3
   },
   "file_extension": ".py",
   "mimetype": "text/x-python",
   "name": "python",
   "nbconvert_exporter": "python",
   "pygments_lexer": "ipython3",
   "version": "3.10.12"
  }
 },
 "nbformat": 4,
 "nbformat_minor": 2
}
