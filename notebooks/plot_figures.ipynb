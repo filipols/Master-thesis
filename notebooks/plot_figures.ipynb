{
 "cells": [
  {
   "cell_type": "markdown",
   "id": "8bd72cfa",
   "metadata": {},
   "source": [
    "### Create figures from saved csv files"
   ]
  },
  {
   "cell_type": "code",
   "execution_count": 1,
   "id": "c954e6b0",
   "metadata": {},
   "outputs": [
    {
     "name": "stderr",
     "output_type": "stream",
     "text": [
      "/home/filip-marcus/.local/lib/python3.10/site-packages/pandas/core/computation/expressions.py:21: UserWarning: Pandas requires version '2.8.4' or newer of 'numexpr' (version '2.8.1' currently installed).\n",
      "  from pandas.core.computation.check import NUMEXPR_INSTALLED\n",
      "/home/filip-marcus/.local/lib/python3.10/site-packages/pandas/core/arrays/masked.py:60: UserWarning: Pandas requires version '1.3.6' or newer of 'bottleneck' (version '1.3.2' currently installed).\n",
      "  from pandas.core import (\n"
     ]
    }
   ],
   "source": [
    "import numpy as np\n",
    "import pandas as pd\n",
    "import matplotlib.pyplot as plt\n",
    "import seaborn as sns\n",
    "from sklearn.metrics import confusion_matrix"
   ]
  },
  {
   "cell_type": "markdown",
   "id": "15b3239c",
   "metadata": {},
   "source": [
    "### Read csv-files"
   ]
  },
  {
   "cell_type": "code",
   "execution_count": 8,
   "id": "56699304",
   "metadata": {},
   "outputs": [
    {
     "data": {
      "text/html": [
       "<div>\n",
       "<style scoped>\n",
       "    .dataframe tbody tr th:only-of-type {\n",
       "        vertical-align: middle;\n",
       "    }\n",
       "\n",
       "    .dataframe tbody tr th {\n",
       "        vertical-align: top;\n",
       "    }\n",
       "\n",
       "    .dataframe thead th {\n",
       "        text-align: right;\n",
       "    }\n",
       "</style>\n",
       "<table border=\"1\" class=\"dataframe\">\n",
       "  <thead>\n",
       "    <tr style=\"text-align: right;\">\n",
       "      <th></th>\n",
       "      <th>train_loss</th>\n",
       "      <th>event_label_preds</th>\n",
       "      <th>event_label_labels</th>\n",
       "    </tr>\n",
       "  </thead>\n",
       "  <tbody>\n",
       "    <tr>\n",
       "      <th>0</th>\n",
       "      <td>26.077274</td>\n",
       "      <td>[[0, 0, 0, 0, 0, 0, 0, 0, 0, 0, 0, 0, 0, 0, 0,...</td>\n",
       "      <td>[[0, 0, 0, 0, 0, 0, 0, 0, 0, 0, 0, 0, 0, 0, 0,...</td>\n",
       "    </tr>\n",
       "    <tr>\n",
       "      <th>1</th>\n",
       "      <td>61.231842</td>\n",
       "      <td>[[0, 0, 0, 0, 0, 0, 0, 0, 0, 0, 0, 0, 0, 0, 0,...</td>\n",
       "      <td>[[0, 0, 0, 0, 0, 0, 0, 0, 0, 0, 0, 0, 0, 0, 0,...</td>\n",
       "    </tr>\n",
       "    <tr>\n",
       "      <th>2</th>\n",
       "      <td>42.189888</td>\n",
       "      <td>[[0, 0, 0, 0, 0, 0, 0, 0, 0, 0, 0, 0, 0, 0, 0,...</td>\n",
       "      <td>[[0, 0, 0, 0, 0, 0, 0, 0, 0, 0, 0, 0, 0, 0, 0,...</td>\n",
       "    </tr>\n",
       "    <tr>\n",
       "      <th>3</th>\n",
       "      <td>35.637394</td>\n",
       "      <td>[[0, 0, 0, 0, 0, 0, 0, 0, 0, 0, 0, 0, 0, 0, 0,...</td>\n",
       "      <td>[[0, 0, 0, 0, 0, 0, 0, 0, 0, 0, 0, 0, 0, 0, 0,...</td>\n",
       "    </tr>\n",
       "    <tr>\n",
       "      <th>4</th>\n",
       "      <td>46.956474</td>\n",
       "      <td>[[0, 0, 0, 0, 0, 0, 0, 0, 0, 0, 0, 0, 0, 0, 0,...</td>\n",
       "      <td>[[0, 0, 0, 0, 0, 0, 0, 0, 0, 0, 0, 0, 0, 0, 0,...</td>\n",
       "    </tr>\n",
       "    <tr>\n",
       "      <th>...</th>\n",
       "      <td>...</td>\n",
       "      <td>...</td>\n",
       "      <td>...</td>\n",
       "    </tr>\n",
       "    <tr>\n",
       "      <th>235</th>\n",
       "      <td>11.729431</td>\n",
       "      <td>[[0, 0, 0, 0, 0, 0, 0, 0, 0, 0, 0, 0, 0, 0, 0,...</td>\n",
       "      <td>[[0, 0, 0, 0, 0, 0, 0, 0, 0, 0, 0, 0, 0, 0, 0,...</td>\n",
       "    </tr>\n",
       "    <tr>\n",
       "      <th>236</th>\n",
       "      <td>24.156307</td>\n",
       "      <td>[[0, 0, 0, 0, 0, 0, 0, 0, 0, 0, 0, 0, 0, 0, 0,...</td>\n",
       "      <td>[[0, 0, 0, 0, 0, 0, 0, 0, 0, 0, 0, 0, 0, 0, 0,...</td>\n",
       "    </tr>\n",
       "    <tr>\n",
       "      <th>237</th>\n",
       "      <td>11.302710</td>\n",
       "      <td>[[0, 0, 0, 0, 0, 0, 0, 0, 0, 0, 0, 0, 0, 0, 0,...</td>\n",
       "      <td>[[0, 0, 0, 0, 0, 0, 0, 0, 0, 0, 0, 0, 0, 0, 0,...</td>\n",
       "    </tr>\n",
       "    <tr>\n",
       "      <th>238</th>\n",
       "      <td>0.496386</td>\n",
       "      <td>[[0, 0, 0, 0, 0, 0, 0, 0, 0, 0, 0, 0, 0, 0, 0,...</td>\n",
       "      <td>[[0, 0, 0, 0, 0, 0, 0, 0, 0, 0, 0, 0, 0, 0, 0,...</td>\n",
       "    </tr>\n",
       "    <tr>\n",
       "      <th>239</th>\n",
       "      <td>13.465162</td>\n",
       "      <td>[[0, 0, 0, 0, 0, 0, 0, 0, 0, 0, 0, 0, 0, 0, 0,...</td>\n",
       "      <td>[[0, 0, 0, 0, 0, 0, 0, 0, 0, 0, 0, 0, 0, 0, 0,...</td>\n",
       "    </tr>\n",
       "  </tbody>\n",
       "</table>\n",
       "<p>240 rows × 3 columns</p>\n",
       "</div>"
      ],
      "text/plain": [
       "     train_loss                                  event_label_preds  \\\n",
       "0     26.077274  [[0, 0, 0, 0, 0, 0, 0, 0, 0, 0, 0, 0, 0, 0, 0,...   \n",
       "1     61.231842  [[0, 0, 0, 0, 0, 0, 0, 0, 0, 0, 0, 0, 0, 0, 0,...   \n",
       "2     42.189888  [[0, 0, 0, 0, 0, 0, 0, 0, 0, 0, 0, 0, 0, 0, 0,...   \n",
       "3     35.637394  [[0, 0, 0, 0, 0, 0, 0, 0, 0, 0, 0, 0, 0, 0, 0,...   \n",
       "4     46.956474  [[0, 0, 0, 0, 0, 0, 0, 0, 0, 0, 0, 0, 0, 0, 0,...   \n",
       "..          ...                                                ...   \n",
       "235   11.729431  [[0, 0, 0, 0, 0, 0, 0, 0, 0, 0, 0, 0, 0, 0, 0,...   \n",
       "236   24.156307  [[0, 0, 0, 0, 0, 0, 0, 0, 0, 0, 0, 0, 0, 0, 0,...   \n",
       "237   11.302710  [[0, 0, 0, 0, 0, 0, 0, 0, 0, 0, 0, 0, 0, 0, 0,...   \n",
       "238    0.496386  [[0, 0, 0, 0, 0, 0, 0, 0, 0, 0, 0, 0, 0, 0, 0,...   \n",
       "239   13.465162  [[0, 0, 0, 0, 0, 0, 0, 0, 0, 0, 0, 0, 0, 0, 0,...   \n",
       "\n",
       "                                    event_label_labels  \n",
       "0    [[0, 0, 0, 0, 0, 0, 0, 0, 0, 0, 0, 0, 0, 0, 0,...  \n",
       "1    [[0, 0, 0, 0, 0, 0, 0, 0, 0, 0, 0, 0, 0, 0, 0,...  \n",
       "2    [[0, 0, 0, 0, 0, 0, 0, 0, 0, 0, 0, 0, 0, 0, 0,...  \n",
       "3    [[0, 0, 0, 0, 0, 0, 0, 0, 0, 0, 0, 0, 0, 0, 0,...  \n",
       "4    [[0, 0, 0, 0, 0, 0, 0, 0, 0, 0, 0, 0, 0, 0, 0,...  \n",
       "..                                                 ...  \n",
       "235  [[0, 0, 0, 0, 0, 0, 0, 0, 0, 0, 0, 0, 0, 0, 0,...  \n",
       "236  [[0, 0, 0, 0, 0, 0, 0, 0, 0, 0, 0, 0, 0, 0, 0,...  \n",
       "237  [[0, 0, 0, 0, 0, 0, 0, 0, 0, 0, 0, 0, 0, 0, 0,...  \n",
       "238  [[0, 0, 0, 0, 0, 0, 0, 0, 0, 0, 0, 0, 0, 0, 0,...  \n",
       "239  [[0, 0, 0, 0, 0, 0, 0, 0, 0, 0, 0, 0, 0, 0, 0,...  \n",
       "\n",
       "[240 rows x 3 columns]"
      ]
     },
     "execution_count": 8,
     "metadata": {},
     "output_type": "execute_result"
    }
   ],
   "source": [
    "pretrain_data = pd.read_csv('/home/filip-marcus/results/eneryield/pretrain_10_04_2025.csv')\n",
    "class_dist_baseline = pd.read_csv('/home/filip-marcus/results/eneryield/class_dist_baseline.csv')\n",
    "event_label_baseline = pd.read_csv('/home/filip-marcus/results/eneryield/event_label_baseline.csv')\n",
    "event_label_baseline"
   ]
  },
  {
   "cell_type": "markdown",
   "id": "8b941c11",
   "metadata": {},
   "source": [
    "### Settings"
   ]
  },
  {
   "cell_type": "code",
   "execution_count": 4,
   "id": "1f91544f",
   "metadata": {},
   "outputs": [],
   "source": [
    "cmap = plt.get_cmap('mako')"
   ]
  },
  {
   "cell_type": "markdown",
   "id": "7857e001",
   "metadata": {},
   "source": [
    "### Event label confusion matrix"
   ]
  },
  {
   "cell_type": "code",
   "execution_count": 15,
   "id": "c17db269",
   "metadata": {},
   "outputs": [
    {
     "data": {
      "text/plain": [
       "Text(69.0, 0.5, 'Actual')"
      ]
     },
     "execution_count": 15,
     "metadata": {},
     "output_type": "execute_result"
    },
    {
     "data": {
      "image/png": "[encoded data removed]",
      "text/plain": [
       "<Figure size 720x720 with 1 Axes>"
      ]
     },
     "metadata": {
      "needs_background": "light"
     },
     "output_type": "display_data"
    }
   ],
   "source": [
    "preds = [1, 3, 2, 4, 5, 1, 1, 5, 5, 1]\n",
    "labels = [2, 2, 1, 3, 5, 2, 2, 3, 3, 1]\n",
    "\n",
    "cm = confusion_matrix(preds, labels)\n",
    "\n",
    "class_names = ['Class 0', 'Class 1', 'Class 2', 'Class 3', 'Class 4']\n",
    "\n",
    "plt.figure(figsize=(10, 10))\n",
    "sns.heatmap(cm, annot=True, fmt='d', cmap='mako_r', xticklabels=class_names, yticklabels=class_names, cbar=False)\n",
    "plt.xlabel('Predicted', fontsize=12)\n",
    "plt.ylabel('Actual', fontsize=12)\n",
    "# plt.title('Confusion Matrix', fontsize=20)"
   ]
  },
  {
   "cell_type": "markdown",
   "id": "7132673f",
   "metadata": {},
   "source": [
    "### Forgetting curve"
   ]
  },
  {
   "cell_type": "code",
   "execution_count": null,
   "id": "3edcf5cc",
   "metadata": {},
   "outputs": [],
   "source": []
  },
  {
   "cell_type": "markdown",
   "id": "9eff8261",
   "metadata": {},
   "source": [
    "### Total learning curve"
   ]
  },
  {
   "cell_type": "code",
   "execution_count": 11,
   "id": "b4c6a483",
   "metadata": {},
   "outputs": [
    {
     "name": "stdout",
     "output_type": "stream",
     "text": [
      "6.0\n"
     ]
    },
    {
     "data": {
      "image/png": "[encoded data removed]",
      "text/plain": [
       "<Figure size 1080x360 with 1 Axes>"
      ]
     },
     "metadata": {
      "needs_background": "light"
     },
     "output_type": "display_data"
    }
   ],
   "source": [
    "# pretrain\n",
    "loss_pretrain = np.array(pretrain_data['train_loss'])\n",
    "num_epochs_pretrain = 115\n",
    "steps_per_epoch = len(loss_pretrain) / num_epochs_pretrain\n",
    "train_loss_pretrain = loss_pretrain[::int(steps_per_epoch)]\n",
    "\n",
    "# # finetune 1: class_dist_baseline\n",
    "# class_dist_baseline_train_loss = np.array(class_dist_baseline['train_loss'])\n",
    "# num_epochs_finetune_1 = 200\n",
    "# steps_per_epoch = len(class_dist_baseline_train_loss) / num_epochs_finetune_1\n",
    "# train_loss = np.concatenate((train_loss_pretrain, class_dist_baseline_train_loss[::int(steps_per_epoch)]))\n",
    "\n",
    "# finetune 2: event_label_baseline\n",
    "event_label_baseline_train_loss = np.array(event_label_baseline['train_loss'])\n",
    "num_epochs_finetune_2 = 40\n",
    "steps_per_epoch = len(event_label_baseline_train_loss) / num_epochs_finetune_2\n",
    "train_loss = np.concatenate((train_loss_pretrain, event_label_baseline_train_loss[::int(steps_per_epoch)]))\n",
    "\n",
    "\n",
    "print(steps_per_epoch)\n",
    "\n",
    "num_epochs_total = num_epochs_pretrain + num_epochs_finetune_2\n",
    "epochs = np.arange(1, num_epochs_total + 1)\n",
    "\n",
    "line_color = cmap(0.5)\n",
    "pretrain_shade_color = cmap(0.1)\n",
    "finetune_1_shade_color = cmap(0.6)\n",
    "\n",
    "# -----------------------------------------PLOTTING--------------------------------------------\n",
    "plt.figure(figsize=(15, 5))\n",
    "\n",
    "# pretrain\n",
    "plt.axvspan(0, num_epochs_pretrain, color=pretrain_shade_color, alpha=0.15, label='Pretrain phase')\n",
    "plt.text(x=60, y=max(train_loss) * 0.9, s=\"Pretraining Phase\", fontsize=14, color=pretrain_shade_color, ha='center')\n",
    "\n",
    "# # class dist\n",
    "# plt.axvspan(num_epochs_pretrain, num_epochs_total, color=finetune_1_shade_color, alpha=0.15, label='Fine-tune Class Distribution')\n",
    "# plt.text(x=225, y=max(train_loss) * 0.9, s=\"Fine-tune Class Distribution\", fontsize=14, color=finetune_1_shade_color, ha='center')\n",
    "\n",
    "# event label\n",
    "plt.axvspan(num_epochs_pretrain, num_epochs_total, color=finetune_1_shade_color, alpha=0.15, label='Fine-tune Event Label')\n",
    "plt.text(x=135, y=max(train_loss) * 0.9, s=\"Fine-tune Event Label\", fontsize=14, color=finetune_1_shade_color, ha='center')\n",
    "\n",
    "\n",
    "plt.plot(epochs[:num_epochs_pretrain], train_loss[:num_epochs_pretrain], label='Train Loss (Pretrain)',color=pretrain_shade_color, linewidth=2.5, alpha=0.8)\n",
    "plt.plot(epochs[num_epochs_pretrain - 1:], train_loss[num_epochs_pretrain - 1:], label='Train Loss (Finetune)', color=finetune_1_shade_color, linewidth=2.5, alpha=0.8)\n",
    "plt.title('Learning curve', fontsize=18)\n",
    "plt.xlabel('Total epochs', fontsize=12)    \n",
    "plt.ylabel('Train Loss', fontsize=12)\n",
    "plt.grid(True)\n",
    "# plt.yscale('log')"
   ]
  },
  {
   "cell_type": "code",
   "execution_count": null,
   "id": "f5b0c498",
   "metadata": {},
   "outputs": [],
   "source": []
  }
 ],
 "metadata": {
  "kernelspec": {
   "display_name": "Python (esgpt-venv)",
   "language": "python",
   "name": "esgpt-venv"
  },
  "language_info": {
   "codemirror_mode": {
    "name": "ipython",
    "version": 3
   },
   "file_extension": ".py",
   "mimetype": "text/x-python",
   "name": "python",
   "nbconvert_exporter": "python",
   "pygments_lexer": "ipython3",
   "version": "3.10.12"
  }
 },
 "nbformat": 4,
 "nbformat_minor": 5
}
