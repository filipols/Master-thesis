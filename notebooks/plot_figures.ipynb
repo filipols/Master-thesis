{
 "cells": [
  {
   "cell_type": "markdown",
   "id": "8bd72cfa",
   "metadata": {},
   "source": [
    "### Create figures from saved csv files"
   ]
  },
  {
   "cell_type": "code",
   "execution_count": 1,
   "id": "c954e6b0",
   "metadata": {},
   "outputs": [
    {
     "name": "stderr",
     "output_type": "stream",
     "text": [
      "/home/filip-marcus/.local/lib/python3.10/site-packages/pandas/core/computation/expressions.py:21: UserWarning: Pandas requires version '2.8.4' or newer of 'numexpr' (version '2.8.1' currently installed).\n",
      "  from pandas.core.computation.check import NUMEXPR_INSTALLED\n",
      "/home/filip-marcus/.local/lib/python3.10/site-packages/pandas/core/arrays/masked.py:60: UserWarning: Pandas requires version '1.3.6' or newer of 'bottleneck' (version '1.3.2' currently installed).\n",
      "  from pandas.core import (\n"
     ]
    }
   ],
   "source": [
    "import numpy as np\n",
    "import pandas as pd\n",
    "import matplotlib.pyplot as plt\n",
    "import seaborn as sns"
   ]
  },
  {
   "cell_type": "markdown",
   "id": "15b3239c",
   "metadata": {},
   "source": [
    "### Read csv-files"
   ]
  },
  {
   "cell_type": "code",
   "execution_count": 2,
   "id": "56699304",
   "metadata": {},
   "outputs": [
    {
     "data": {
      "text/html": [
       "<div>\n",
       "<style scoped>\n",
       "    .dataframe tbody tr th:only-of-type {\n",
       "        vertical-align: middle;\n",
       "    }\n",
       "\n",
       "    .dataframe tbody tr th {\n",
       "        vertical-align: top;\n",
       "    }\n",
       "\n",
       "    .dataframe thead th {\n",
       "        text-align: right;\n",
       "    }\n",
       "</style>\n",
       "<table border=\"1\" class=\"dataframe\">\n",
       "  <thead>\n",
       "    <tr style=\"text-align: right;\">\n",
       "      <th></th>\n",
       "      <th>train_loss</th>\n",
       "      <th>event_label_preds</th>\n",
       "      <th>event_label_labels</th>\n",
       "    </tr>\n",
       "  </thead>\n",
       "  <tbody>\n",
       "    <tr>\n",
       "      <th>0</th>\n",
       "      <td>211.595245</td>\n",
       "      <td>NaN</td>\n",
       "      <td>NaN</td>\n",
       "    </tr>\n",
       "    <tr>\n",
       "      <th>1</th>\n",
       "      <td>335.489471</td>\n",
       "      <td>NaN</td>\n",
       "      <td>NaN</td>\n",
       "    </tr>\n",
       "    <tr>\n",
       "      <th>2</th>\n",
       "      <td>124.505295</td>\n",
       "      <td>NaN</td>\n",
       "      <td>NaN</td>\n",
       "    </tr>\n",
       "    <tr>\n",
       "      <th>3</th>\n",
       "      <td>135.947525</td>\n",
       "      <td>NaN</td>\n",
       "      <td>NaN</td>\n",
       "    </tr>\n",
       "    <tr>\n",
       "      <th>4</th>\n",
       "      <td>87.839500</td>\n",
       "      <td>NaN</td>\n",
       "      <td>NaN</td>\n",
       "    </tr>\n",
       "    <tr>\n",
       "      <th>...</th>\n",
       "      <td>...</td>\n",
       "      <td>...</td>\n",
       "      <td>...</td>\n",
       "    </tr>\n",
       "    <tr>\n",
       "      <th>340</th>\n",
       "      <td>29.024265</td>\n",
       "      <td>NaN</td>\n",
       "      <td>NaN</td>\n",
       "    </tr>\n",
       "    <tr>\n",
       "      <th>341</th>\n",
       "      <td>30.095898</td>\n",
       "      <td>NaN</td>\n",
       "      <td>NaN</td>\n",
       "    </tr>\n",
       "    <tr>\n",
       "      <th>342</th>\n",
       "      <td>30.508511</td>\n",
       "      <td>NaN</td>\n",
       "      <td>NaN</td>\n",
       "    </tr>\n",
       "    <tr>\n",
       "      <th>343</th>\n",
       "      <td>32.547989</td>\n",
       "      <td>NaN</td>\n",
       "      <td>NaN</td>\n",
       "    </tr>\n",
       "    <tr>\n",
       "      <th>344</th>\n",
       "      <td>35.269508</td>\n",
       "      <td>NaN</td>\n",
       "      <td>NaN</td>\n",
       "    </tr>\n",
       "  </tbody>\n",
       "</table>\n",
       "<p>345 rows × 3 columns</p>\n",
       "</div>"
      ],
      "text/plain": [
       "     train_loss  event_label_preds  event_label_labels\n",
       "0    211.595245                NaN                 NaN\n",
       "1    335.489471                NaN                 NaN\n",
       "2    124.505295                NaN                 NaN\n",
       "3    135.947525                NaN                 NaN\n",
       "4     87.839500                NaN                 NaN\n",
       "..          ...                ...                 ...\n",
       "340   29.024265                NaN                 NaN\n",
       "341   30.095898                NaN                 NaN\n",
       "342   30.508511                NaN                 NaN\n",
       "343   32.547989                NaN                 NaN\n",
       "344   35.269508                NaN                 NaN\n",
       "\n",
       "[345 rows x 3 columns]"
      ]
     },
     "execution_count": 2,
     "metadata": {},
     "output_type": "execute_result"
    }
   ],
   "source": [
    "data = pd.read_csv('/home/filip-marcus/results/eneryield/pretrain_10_04_2025.csv')\n",
    "data"
   ]
  },
  {
   "cell_type": "markdown",
   "id": "8b941c11",
   "metadata": {},
   "source": [
    "### Settings"
   ]
  },
  {
   "cell_type": "code",
   "execution_count": 9,
   "id": "1f91544f",
   "metadata": {},
   "outputs": [],
   "source": [
    "cmap = plt.get_cmap('mako')"
   ]
  },
  {
   "cell_type": "markdown",
   "id": "7857e001",
   "metadata": {},
   "source": [
    "### Event label confusion matrix"
   ]
  },
  {
   "cell_type": "code",
   "execution_count": null,
   "id": "c17db269",
   "metadata": {},
   "outputs": [],
   "source": []
  },
  {
   "cell_type": "markdown",
   "id": "7132673f",
   "metadata": {},
   "source": [
    "### Forgetting curve"
   ]
  },
  {
   "cell_type": "code",
   "execution_count": null,
   "id": "3edcf5cc",
   "metadata": {},
   "outputs": [],
   "source": []
  },
  {
   "cell_type": "markdown",
   "id": "9eff8261",
   "metadata": {},
   "source": [
    "### Total learning curve"
   ]
  },
  {
   "cell_type": "code",
   "execution_count": null,
   "id": "b4c6a483",
   "metadata": {},
   "outputs": [
    {
     "data": {
      "image/png": "[encoded data removed]",
      "text/plain": [
       "<Figure size 720x360 with 1 Axes>"
      ]
     },
     "metadata": {
      "needs_background": "light"
     },
     "output_type": "display_data"
    }
   ],
   "source": [
    "train_loss = np.array(data['train_loss'])\n",
    "num_epochs = 115\n",
    "steps_per_epoch = len(train_loss) / num_epochs\n",
    "train_loss = train_loss[::int(steps_per_epoch)]\n",
    "epochs = np.arange(1, num_epochs + 1)\n",
    "\n",
    "line_color = cmap(0.4)\n",
    "\n",
    "plt.figure(figsize=(10, 5))\n",
    "\n",
    "# Shade the pretraining region\n",
    "plt.axvspan(0, num_epochs, color='gray', alpha=0.3, label='Pretraining Phase')\n",
    "\n",
    "plt.plot(epochs, train_loss, label='Train Loss', color=line_color)\n",
    "plt.title('Train Loss')\n",
    "plt.xlabel('Epochs')    \n",
    "plt.ylabel('Loss')\n",
    "plt.legend()\n",
    "plt.grid(True)"
   ]
  },
  {
   "cell_type": "code",
   "execution_count": null,
   "id": "f5b0c498",
   "metadata": {},
   "outputs": [],
   "source": []
  }
 ],
 "metadata": {
  "kernelspec": {
   "display_name": "Python (esgpt-venv)",
   "language": "python",
   "name": "esgpt-venv"
  },
  "language_info": {
   "codemirror_mode": {
    "name": "ipython",
    "version": 3
   },
   "file_extension": ".py",
   "mimetype": "text/x-python",
   "name": "python",
   "nbconvert_exporter": "python",
   "pygments_lexer": "ipython3",
   "version": "3.10.12"
  }
 },
 "nbformat": 4,
 "nbformat_minor": 5
}
