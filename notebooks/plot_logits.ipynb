{
 "cells": [
  {
   "cell_type": "code",
   "execution_count": 34,
   "metadata": {},
   "outputs": [],
   "source": [
    "from omegaconf import OmegaConf\n",
    "from torch.utils.data import DataLoader\n",
    "from EventStream.data.dataset_polars import Dataset\n",
    "from EventStream.evaluation.general_generative_evaluation import ESTForTrajectoryGeneration\n",
    "from EventStream.data.pytorch_dataset import PytorchDataset\n",
    "from EventStream.transformer.config import StructuredTransformerConfig\n",
    "from EventStream.transformer.lightning_modules.generative_modeling import PretrainConfig, ESTForGenerativeSequenceModelingLM\n",
    "from EventStream.transformer.conditionally_independent_model import CIPPTForGenerativeSequenceModeling \n",
    "from EventStream.transformer.lightning_modules.fine_tuning_dev import FinetuneConfig\n",
    "from EventStream.transformer.model_output import get_event_types\n",
    "from safetensors.torch import load_file\n",
    "import torch\n",
    "import hydra\n",
    "import numpy as np\n",
    "\n",
    "import matplotlib.pyplot as plt"
   ]
  },
  {
   "cell_type": "code",
   "execution_count": 35,
   "metadata": {},
   "outputs": [
    {
     "name": "stdout",
     "output_type": "stream",
     "text": [
      "Loading data_config from /home/filip-marcus/ESGPT_new/EventStreamGPT/pretrain/synthetic_0/data_config.json\n",
      "reloaded_data_config PytorchDatasetConfig(save_dir=PosixPath('/home/filip-marcus/ESGPT_new/EventStreamGPT/data/processed/synthetic_0'), max_seq_len=20, min_seq_len=13, seq_padding_side='right', subsequence_sampling_strategy='random', train_subset_size='FULL', train_subset_seed=1, task_df_name='task_df_synthetic_event_label', do_include_subsequence_indices=False, do_include_subject_id=False, do_include_start_time_min=False)\n",
      "Overwriting save_dir in data_config from /home/filip-marcus/ESGPT_new/EventStreamGPT/data/processed/synthetic_0 to /home/filip-marcus/ESGPT_new/EventStreamGPT/data/processed/synthetic_0\n",
      "Overwriting max_seq_len in data_config from 20 to 20\n",
      "Overwriting seq_padding_side in data_config from right to right\n",
      "Overwriting subsequence_sampling_strategy in data_config from random to to_end\n",
      "Overwriting train_subset_size in data_config from FULL to FULL\n",
      "Overwriting train_subset_seed in data_config from 1 to 1\n",
      "Overwriting do_include_subject_id in data_config from False to True\n",
      "Loading config from /home/filip-marcus/ESGPT_new/EventStreamGPT/pretrain/synthetic_0/config.json\n",
      "Overwriting is_cls_dist in config from False to False\n",
      "Overwriting is_event_classification in config from False to True\n",
      "Overwriting task_specific_params in config from None to {'pooling_method': 'last', 'num_samples': None}\n",
      "Setting wandb project to Hyperparameter_sweep_synthetic_0\n"
     ]
    }
   ],
   "source": [
    "from omegaconf import OmegaConf\n",
    "from hydra import initialize, compose\n",
    "\n",
    "# Step into the config directory\n",
    "with initialize(version_base=None, config_path=\"../configs/synthetic_0/\"):  # path to your config directory\n",
    "    cfg = compose(config_name=\"finetune\")  # your .yaml file name (no .yaml extension)\n",
    "\n",
    "if not isinstance(cfg, FinetuneConfig):\n",
    "    cfg = hydra.utils.instantiate(cfg, _convert_=\"object\")"
   ]
  },
  {
   "cell_type": "code",
   "execution_count": 95,
   "metadata": {},
   "outputs": [
    {
     "name": "stdout",
     "output_type": "stream",
     "text": [
      "<class 'EventStream.transformer.lightning_modules.fine_tuning_dev.FinetuneConfig'>\n",
      "torch.float32\n",
      "WARNING: For a conditionally_independent model, do_full_block_in_seq_attention is not used; got False. Setting to None.\n",
      "WARNING: For a conditionally_independent model, do_full_block_in_dep_graph_attention is not used; got True. Setting to None.\n",
      "WARNING: For a conditionally_independent model, dep_graph_window_size is not used; got 2. Setting to None.\n",
      "torch.float32\n",
      "Total parameters: 126 | Updated params: 0 | Unchanged params: 126\n",
      "Re-loading task data for task_df_synthetic_event_label from /home/filip-marcus/ESGPT_new/EventStreamGPT/data/processed/synthetic_0/DL_reps/for_task/task_df_synthetic_event_label:\n",
      "/home/filip-marcus/ESGPT_new/EventStreamGPT/data/processed/synthetic_0/DL_reps/for_task/task_df_synthetic_event_label/train_0.parquet\n",
      "torch.Size([32, 19, 180])\n",
      "torch.Size([32, 19, 1])\n"
     ]
    }
   ],
   "source": [
    "print(type(cfg))\n",
    "\n",
    "model = CIPPTForGenerativeSequenceModeling(\n",
    "        config=cfg.config\n",
    "    )\n",
    "    \n",
    "\n",
    "initial_weights = {name: param.clone() for name, param in model.named_parameters()}\n",
    "\n",
    "\n",
    "model.from_pretrained(\n",
    "    cfg.pretrained_weights_fp\n",
    ")\n",
    "# # Load pretrained weights\n",
    "# checkpoint = load_file(cfg.pretrained_weights_fp / 'model.safetensors')\n",
    "# model.load_state_dict(checkpoint)\n",
    "\n",
    "\n",
    "# Compare parameters\n",
    "total_params = 0\n",
    "params_changed = 0\n",
    "params_unchanged = 0\n",
    "for name, param in model.named_parameters():\n",
    "    total_params+=1\n",
    "    if not torch.equal(initial_weights[name], param):\n",
    "        # print(f\"{name} has been updated with pretrained weights.\")\n",
    "        params_changed +=1\n",
    "    else:\n",
    "        params_unchanged+=1\n",
    "        # print(f\"{name} remains unchanged!\")\n",
    "\n",
    "print(f\"Total parameters: {total_params} | Updated params: {params_changed} | Unchanged params: {params_unchanged}\")\n",
    "model.eval()\n",
    "\n",
    "for param in model.parameters():\n",
    "    param.requires_grad = False\n",
    "\n",
    "train_pyd = PytorchDataset(config=cfg.data_config, split=\"train\")    \n",
    "\n",
    "train_dataloader = DataLoader(\n",
    "    train_pyd, batch_size=32, collate_fn=train_pyd.collate, shuffle=False\n",
    ")  \n",
    "\n",
    "dataloader_iter = iter(train_dataloader)\n",
    "\n",
    "batch1=next(dataloader_iter)\n",
    "batch2=next(dataloader_iter)\n",
    "encoded1 = model.encoder(batch1,\n",
    "                                  use_cache = None,\n",
    "                                  output_attentions=False,\n",
    "                                  output_hidden_states=True,\n",
    "                                  return_dict=True)\n",
    "        \n",
    "        \n",
    "last_hidden_state1 = encoded1.last_hidden_state\n",
    "print(last_hidden_state1.shape)\n",
    "\n",
    "encoded2 = model.encoder(batch2,\n",
    "                                  use_cache = None,\n",
    "                                  output_attentions=False,\n",
    "                                  output_hidden_states=True,\n",
    "                                  return_dict=True)\n",
    "        \n",
    "        \n",
    "last_hidden_state2 = encoded2.last_hidden_state\n",
    "\n",
    "\n",
    "logits_task_event =(model.output_layer.TaskEventCLassificationLayer(last_hidden_state1))\n",
    "\n",
    "print(logits_task_event.shape)"
   ]
  },
  {
   "cell_type": "code",
   "execution_count": 140,
   "metadata": {},
   "outputs": [
    {
     "name": "stdout",
     "output_type": "stream",
     "text": [
      "tensor(0.5000)\n"
     ]
    }
   ],
   "source": [
    "logits_mean05 = logits_task_event - torch.mean(logits_task_event) + 0.5\n",
    "\n",
    "print(torch.mean(logits_mean05))\n",
    "\n"
   ]
  },
  {
   "cell_type": "code",
   "execution_count": 137,
   "metadata": {},
   "outputs": [],
   "source": [
    "logits_task_event_1 = logits_task_event[:,1] +(0.5-logits_mean)\n",
    "logits_task_event_0 = logits_task_event[:,0] +(0.5-logits_mean)"
   ]
  },
  {
   "cell_type": "code",
   "execution_count": 66,
   "metadata": {},
   "outputs": [],
   "source": [
    "logits_flat1 = last_hidden_state1.detach().cpu().reshape(-1, last_hidden_state1.shape[-1])\n",
    "logits_flat2 = last_hidden_state2.detach().cpu().reshape(-1, last_hidden_state2.shape[-1])"
   ]
  },
  {
   "cell_type": "code",
   "execution_count": 67,
   "metadata": {},
   "outputs": [
    {
     "name": "stdout",
     "output_type": "stream",
     "text": [
      "(608, 1)\n"
     ]
    }
   ],
   "source": [
    "from sklearn.decomposition import PCA\n",
    "print(logits_2d1.shape)\n",
    "pca = PCA(n_components=1)\n",
    "logits_2d1 = pca.fit_transform(logits_flat1)  # shape: [640, 2]\n",
    "logits_2d2 = pca.fit_transform(logits_flat2)  # shape: [640, 2]"
   ]
  },
  {
   "cell_type": "code",
   "execution_count": 138,
   "metadata": {},
   "outputs": [],
   "source": [
    "from sklearn.cluster import KMeans\n",
    "\n",
    "n_clusters = 2 # or whatever you expect\n",
    "kmeans = KMeans(n_clusters=n_clusters, random_state=42)\n",
    "clusters1 = kmeans.fit_predict(logits_task_event.squeeze(-1))\n",
    "clusters2 = kmeans.fit_predict(logits_2d2)"
   ]
  },
  {
   "cell_type": "code",
   "execution_count": 141,
   "metadata": {},
   "outputs": [
    {
     "name": "stdout",
     "output_type": "stream",
     "text": [
      "(608, 1)\n"
     ]
    },
    {
     "name": "stderr",
     "output_type": "stream",
     "text": [
      "/tmp/ipykernel_2792626/3431904671.py:4: UserWarning: No data for colormapping provided via 'c'. Parameters 'cmap' will be ignored\n",
      "  scatter = plt.scatter( range(len(logits_task_event.flatten())),logits_task_event.flatten(), cmap=\"tab10\", s=10)\n"
     ]
    },
    {
     "data": {
      "image/png": "[encoded data removed]",
      "text/plain": [
       "<Figure size 800x600 with 1 Axes>"
      ]
     },
     "metadata": {},
     "output_type": "display_data"
    }
   ],
   "source": [
    "# Plot\n",
    "print(logits_2d1.shape)\n",
    "plt.figure(figsize=(8, 6))\n",
    "scatter = plt.scatter( range(len(logits_task_event.flatten())),logits_task_event.flatten(), cmap=\"tab10\", s=10)\n",
    "plt.title(\"Clustering of Transformer Logits\")\n",
    "plt.xlabel(\"logits\")\n",
    "plt.ylabel(\"PCA 2\")\n",
    "\n",
    "plt.tight_layout()\n",
    "plt.show()"
   ]
  },
  {
   "cell_type": "code",
   "execution_count": null,
   "metadata": {},
   "outputs": [],
   "source": []
  },
  {
   "cell_type": "code",
   "execution_count": null,
   "metadata": {},
   "outputs": [],
   "source": []
  }
 ],
 "metadata": {
  "kernelspec": {
   "display_name": "esgpt-new-venv",
   "language": "python",
   "name": "python3"
  },
  "language_info": {
   "codemirror_mode": {
    "name": "ipython",
    "version": 3
   },
   "file_extension": ".py",
   "mimetype": "text/x-python",
   "name": "python",
   "nbconvert_exporter": "python",
   "pygments_lexer": "ipython3",
   "version": "3.10.12"
  }
 },
 "nbformat": 4,
 "nbformat_minor": 2
}
