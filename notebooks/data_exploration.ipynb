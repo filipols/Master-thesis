{
 "cells": [
  {
   "cell_type": "code",
   "execution_count": 2,
   "metadata": {},
   "outputs": [],
   "source": [
    "import numpy as np\n",
    "import pandas as pd\n",
    "import matplotlib.pyplot as plt\n",
    "from IPython.display import Image\n",
    "import io"
   ]
  },
  {
   "cell_type": "code",
   "execution_count": null,
   "metadata": {},
   "outputs": [],
   "source": [
    "buf = io.BytesIO()\n",
    "plt."
   ]
  },
  {
   "cell_type": "code",
   "execution_count": 24,
   "metadata": {},
   "outputs": [],
   "source": [
    "def unix_to_datetime(unix_time):\n",
    "    \"\"\"\n",
    "    Converts a unix timestamp to a datetime object with format yyyy-mm-dd.\n",
    "    Note that UTC time is used.\n",
    "    \n",
    "    Args:\n",
    "        unix_time: int of Unix timestamp\n",
    "        \n",
    "    Returns:\n",
    "        datetime: a datetime object with format yyyy-mm-dd\n",
    "    \"\"\"\n",
    "    \n",
    "    timestamp = pd.to_datetime(unix_time, unit='s')\n",
    "\n",
    "    return timestamp.strftime(\"%Y-%m-%d %H:%M:%S\")"
   ]
  },
  {
   "cell_type": "code",
   "execution_count": 25,
   "metadata": {},
   "outputs": [
    {
     "data": {
      "text/html": [
       "<div>\n",
       "<style scoped>\n",
       "    .dataframe tbody tr th:only-of-type {\n",
       "        vertical-align: middle;\n",
       "    }\n",
       "\n",
       "    .dataframe tbody tr th {\n",
       "        vertical-align: top;\n",
       "    }\n",
       "\n",
       "    .dataframe thead th {\n",
       "        text-align: right;\n",
       "    }\n",
       "</style>\n",
       "<table border=\"1\" class=\"dataframe\">\n",
       "  <thead>\n",
       "    <tr style=\"text-align: right;\">\n",
       "      <th></th>\n",
       "      <th>timestamp</th>\n",
       "    </tr>\n",
       "  </thead>\n",
       "  <tbody>\n",
       "    <tr>\n",
       "      <th>0</th>\n",
       "      <td>2020-10-06 12:11:01</td>\n",
       "    </tr>\n",
       "    <tr>\n",
       "      <th>1</th>\n",
       "      <td>2020-10-06 12:11:02</td>\n",
       "    </tr>\n",
       "    <tr>\n",
       "      <th>2</th>\n",
       "      <td>2020-10-06 12:11:09</td>\n",
       "    </tr>\n",
       "    <tr>\n",
       "      <th>3</th>\n",
       "      <td>2020-10-06 12:11:11</td>\n",
       "    </tr>\n",
       "    <tr>\n",
       "      <th>4</th>\n",
       "      <td>2020-10-06 12:34:44</td>\n",
       "    </tr>\n",
       "    <tr>\n",
       "      <th>...</th>\n",
       "      <td>...</td>\n",
       "    </tr>\n",
       "    <tr>\n",
       "      <th>78011</th>\n",
       "      <td>2025-02-03 11:38:53</td>\n",
       "    </tr>\n",
       "    <tr>\n",
       "      <th>78012</th>\n",
       "      <td>2025-02-03 11:48:01</td>\n",
       "    </tr>\n",
       "    <tr>\n",
       "      <th>78013</th>\n",
       "      <td>2025-02-03 11:55:31</td>\n",
       "    </tr>\n",
       "    <tr>\n",
       "      <th>78014</th>\n",
       "      <td>2025-02-03 11:59:29</td>\n",
       "    </tr>\n",
       "    <tr>\n",
       "      <th>78015</th>\n",
       "      <td>2025-02-03 12:13:46</td>\n",
       "    </tr>\n",
       "  </tbody>\n",
       "</table>\n",
       "<p>78016 rows × 1 columns</p>\n",
       "</div>"
      ],
      "text/plain": [
       "                timestamp\n",
       "0     2020-10-06 12:11:01\n",
       "1     2020-10-06 12:11:02\n",
       "2     2020-10-06 12:11:09\n",
       "3     2020-10-06 12:11:11\n",
       "4     2020-10-06 12:34:44\n",
       "...                   ...\n",
       "78011 2025-02-03 11:38:53\n",
       "78012 2025-02-03 11:48:01\n",
       "78013 2025-02-03 11:55:31\n",
       "78014 2025-02-03 11:59:29\n",
       "78015 2025-02-03 12:13:46\n",
       "\n",
       "[78016 rows x 1 columns]"
      ]
     },
     "execution_count": 25,
     "metadata": {},
     "output_type": "execute_result"
    }
   ],
   "source": [
    "eneryield_no_normal = pd.read_csv('/home/filip-marcus/data/db_access/data/J03/classification/2025_january_classification_model.csv')\n",
    "# ecom_df = pd.read_csv('/home/filip-marcus/data/kaggle_ecommers_electronic/events.csv')\n",
    "df = eneryield_no_normal['timestamp'].rename('timestamp')\n",
    "# df = ecom_df['event_time'].rename('timestamp')\n",
    "df = pd.DataFrame(df)\n",
    "# df[\"timestamp\"] = df[\"timestamp\"].str.replace(\" UTC\", \"\", regex=False)\n",
    "# df['timestamp'] = pd.to_datetime(df['timestamp'])\n",
    "df['timestamp'] = pd.to_datetime(df['timestamp'].apply(unix_to_datetime))\n",
    "df"
   ]
  },
  {
   "cell_type": "code",
   "execution_count": 26,
   "metadata": {},
   "outputs": [
    {
     "data": {
      "text/html": [
       "<div>\n",
       "<style scoped>\n",
       "    .dataframe tbody tr th:only-of-type {\n",
       "        vertical-align: middle;\n",
       "    }\n",
       "\n",
       "    .dataframe tbody tr th {\n",
       "        vertical-align: top;\n",
       "    }\n",
       "\n",
       "    .dataframe thead th {\n",
       "        text-align: right;\n",
       "    }\n",
       "</style>\n",
       "<table border=\"1\" class=\"dataframe\">\n",
       "  <thead>\n",
       "    <tr style=\"text-align: right;\">\n",
       "      <th></th>\n",
       "      <th>timestamp</th>\n",
       "      <th>time_delta</th>\n",
       "    </tr>\n",
       "  </thead>\n",
       "  <tbody>\n",
       "    <tr>\n",
       "      <th>0</th>\n",
       "      <td>2020-10-06 12:11:01</td>\n",
       "      <td>NaN</td>\n",
       "    </tr>\n",
       "    <tr>\n",
       "      <th>1</th>\n",
       "      <td>2020-10-06 12:11:02</td>\n",
       "      <td>1.0</td>\n",
       "    </tr>\n",
       "    <tr>\n",
       "      <th>2</th>\n",
       "      <td>2020-10-06 12:11:09</td>\n",
       "      <td>7.0</td>\n",
       "    </tr>\n",
       "    <tr>\n",
       "      <th>3</th>\n",
       "      <td>2020-10-06 12:11:11</td>\n",
       "      <td>2.0</td>\n",
       "    </tr>\n",
       "    <tr>\n",
       "      <th>4</th>\n",
       "      <td>2020-10-06 12:34:44</td>\n",
       "      <td>1413.0</td>\n",
       "    </tr>\n",
       "    <tr>\n",
       "      <th>...</th>\n",
       "      <td>...</td>\n",
       "      <td>...</td>\n",
       "    </tr>\n",
       "    <tr>\n",
       "      <th>78011</th>\n",
       "      <td>2025-02-03 11:38:53</td>\n",
       "      <td>182.0</td>\n",
       "    </tr>\n",
       "    <tr>\n",
       "      <th>78012</th>\n",
       "      <td>2025-02-03 11:48:01</td>\n",
       "      <td>548.0</td>\n",
       "    </tr>\n",
       "    <tr>\n",
       "      <th>78013</th>\n",
       "      <td>2025-02-03 11:55:31</td>\n",
       "      <td>450.0</td>\n",
       "    </tr>\n",
       "    <tr>\n",
       "      <th>78014</th>\n",
       "      <td>2025-02-03 11:59:29</td>\n",
       "      <td>238.0</td>\n",
       "    </tr>\n",
       "    <tr>\n",
       "      <th>78015</th>\n",
       "      <td>2025-02-03 12:13:46</td>\n",
       "      <td>857.0</td>\n",
       "    </tr>\n",
       "  </tbody>\n",
       "</table>\n",
       "<p>78016 rows × 2 columns</p>\n",
       "</div>"
      ],
      "text/plain": [
       "                timestamp  time_delta\n",
       "0     2020-10-06 12:11:01         NaN\n",
       "1     2020-10-06 12:11:02         1.0\n",
       "2     2020-10-06 12:11:09         7.0\n",
       "3     2020-10-06 12:11:11         2.0\n",
       "4     2020-10-06 12:34:44      1413.0\n",
       "...                   ...         ...\n",
       "78011 2025-02-03 11:38:53       182.0\n",
       "78012 2025-02-03 11:48:01       548.0\n",
       "78013 2025-02-03 11:55:31       450.0\n",
       "78014 2025-02-03 11:59:29       238.0\n",
       "78015 2025-02-03 12:13:46       857.0\n",
       "\n",
       "[78016 rows x 2 columns]"
      ]
     },
     "execution_count": 26,
     "metadata": {},
     "output_type": "execute_result"
    }
   ],
   "source": [
    "df['time_delta'] = df['timestamp'].diff().dt.total_seconds()\n",
    "df"
   ]
  },
  {
   "cell_type": "code",
   "execution_count": 31,
   "metadata": {},
   "outputs": [
    {
     "data": {
      "text/plain": [
       "Text(0.5, 1.0, 'Histogram of Time Deltas')"
      ]
     },
     "execution_count": 31,
     "metadata": {},
     "output_type": "execute_result"
    },
    {
     "data": {
      "image/png": "[encoded data removed]",
      "text/plain": [
       "<Figure size 1000x600 with 1 Axes>"
      ]
     },
     "metadata": {},
     "output_type": "display_data"
    }
   ],
   "source": [
    "df = df[df['time_delta'] < 2000] # one week ahead\n",
    "\n",
    "\n",
    "\n",
    "plt.figure(figsize=(10,6))\n",
    "plt.hist(df['time_delta'].dropna(), bins=100, edgecolor='black', density=False)\n",
    "x = np.linspace(0,2000,20000)\n",
    "rate = 0.02\n",
    "y =30000*np.exp(-rate * x)\n",
    "plt.plot(x,y)\n",
    "# Set labels and title\n",
    "plt.xlabel('Time Delta (Seconds)')\n",
    "plt.ylabel('Frequency')\n",
    "plt.title('Histogram of Time Deltas')\n",
    "# plt.yscale('log')"
   ]
  },
  {
   "cell_type": "code",
   "execution_count": null,
   "metadata": {},
   "outputs": [],
   "source": []
  }
 ],
 "metadata": {
  "kernelspec": {
   "display_name": "Python (esgpt-venv)",
   "language": "python",
   "name": "esgpt-venv"
  }
 },
 "nbformat": 4,
 "nbformat_minor": 2
}
