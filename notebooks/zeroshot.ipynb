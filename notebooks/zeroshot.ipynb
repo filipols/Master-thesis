{
 "cells": [
  {
   "cell_type": "code",
   "execution_count": 2,
   "id": "f36a42f7",
   "metadata": {},
   "outputs": [
    {
     "name": "stderr",
     "output_type": "stream",
     "text": [
      "/home/filip-marcus/models/models_venv/lib/python3.10/site-packages/tqdm/auto.py:21: TqdmWarning: IProgress not found. Please update jupyter and ipywidgets. See https://ipywidgets.readthedocs.io/en/stable/user_install.html\n",
      "  from .autonotebook import tqdm as notebook_tqdm\n"
     ]
    },
    {
     "name": "stdout",
     "output_type": "stream",
     "text": [
      "WARNING: For a conditionally_independent model, do_full_block_in_seq_attention is not used; got False. Setting to None.\n",
      "WARNING: For a conditionally_independent model, do_full_block_in_dep_graph_attention is not used; got True. Setting to None.\n",
      "WARNING: For a conditionally_independent model, dep_graph_window_size is not used; got 2. Setting to None.\n"
     ]
    }
   ],
   "source": [
    "from EventStream.transformer.lightning_modules.fine_tuning import FinetuneConfig"
   ]
  },
  {
   "cell_type": "code",
   "execution_count": 5,
   "id": "d3c5403e",
   "metadata": {},
   "outputs": [
    {
     "name": "stdout",
     "output_type": "stream",
     "text": [
      "WARNING: For a conditionally_independent model, do_full_block_in_seq_attention is not used; got False. Setting to None.\n",
      "WARNING: For a conditionally_independent model, do_full_block_in_dep_graph_attention is not used; got True. Setting to None.\n",
      "WARNING: For a conditionally_independent model, dep_graph_window_size is not used; got 2. Setting to None.\n"
     ]
    },
    {
     "ename": "AttributeError",
     "evalue": "'dict' object has no attribute 'save_dir'",
     "output_type": "error",
     "traceback": [
      "\u001b[0;31m---------------------------------------------------------------------------\u001b[0m",
      "\u001b[0;31mAttributeError\u001b[0m                            Traceback (most recent call last)",
      "Cell \u001b[0;32mIn[5], line 7\u001b[0m\n\u001b[1;32m      4\u001b[0m MODEL_DIR \u001b[38;5;241m=\u001b[39m \u001b[38;5;124m'\u001b[39m\u001b[38;5;124m/home/filip-marcus/models/EventStreamGPT\u001b[39m\u001b[38;5;124m'\u001b[39m\n\u001b[1;32m      5\u001b[0m TASK_DF_NAME \u001b[38;5;241m=\u001b[39m \u001b[38;5;124m'\u001b[39m\u001b[38;5;124mtask_df_class_dist\u001b[39m\u001b[38;5;124m'\u001b[39m\n\u001b[0;32m----> 7\u001b[0m cfg \u001b[38;5;241m=\u001b[39m \u001b[43mFinetuneConfig\u001b[49m\u001b[43m(\u001b[49m\n\u001b[1;32m      8\u001b[0m \u001b[43m    \u001b[49m\u001b[43mload_from_model_dir\u001b[49m\u001b[38;5;241;43m=\u001b[39;49m\u001b[43mMODEL_DIR\u001b[49m\u001b[43m,\u001b[49m\n\u001b[1;32m      9\u001b[0m \u001b[43m    \u001b[49m\u001b[43mtask_df_name\u001b[49m\u001b[38;5;241;43m=\u001b[39;49m\u001b[43mTASK_DF_NAME\u001b[49m\u001b[43m,\u001b[49m\n\u001b[1;32m     10\u001b[0m \u001b[38;5;66;43;03m#     data_config_overrides={\u001b[39;49;00m\n\u001b[1;32m     11\u001b[0m \u001b[38;5;66;43;03m#         \"max_seq_len\": 128,\u001b[39;49;00m\n\u001b[1;32m     12\u001b[0m \u001b[38;5;66;43;03m#         \"subsequence_sampling_strategy\": \"to_end\",\u001b[39;49;00m\n\u001b[1;32m     13\u001b[0m \u001b[38;5;66;43;03m#         \"do_include_start_time_min\": True,\u001b[39;49;00m\n\u001b[1;32m     14\u001b[0m \u001b[38;5;66;43;03m#         \"seq_padding_side\": \"left\",\u001b[39;49;00m\n\u001b[1;32m     15\u001b[0m \u001b[38;5;66;43;03m#     },\u001b[39;49;00m\n\u001b[1;32m     16\u001b[0m \u001b[43m)\u001b[49m\n\u001b[1;32m     17\u001b[0m ESD \u001b[38;5;241m=\u001b[39m Dataset\u001b[38;5;241m.\u001b[39mload(cfg\u001b[38;5;241m.\u001b[39mdata_config\u001b[38;5;241m.\u001b[39msave_dir)\n\u001b[1;32m     18\u001b[0m train_pyd \u001b[38;5;241m=\u001b[39m PytorchDataset(cfg\u001b[38;5;241m.\u001b[39mdata_config, split\u001b[38;5;241m=\u001b[39m\u001b[38;5;124m\"\u001b[39m\u001b[38;5;124mtrain\u001b[39m\u001b[38;5;124m\"\u001b[39m)\n",
      "File \u001b[0;32m<string>:17\u001b[0m, in \u001b[0;36m__init__\u001b[0;34m(self, experiment_dir, load_from_model_dir, task_df_name, pretrained_weights_fp, save_dir, wandb_logger_kwargs, wandb_experiment_config_kwargs, do_overwrite, seed, config, optimization_config, data_config, trainer_config, do_use_filesystem_sharing)\u001b[0m\n",
      "File \u001b[0;32m~/models/EventStreamGPT/EventStream/transformer/lightning_modules/fine_tuning.py:390\u001b[0m, in \u001b[0;36mFinetuneConfig.__post_init__\u001b[0;34m(self)\u001b[0m\n\u001b[1;32m    386\u001b[0m         \u001b[38;5;28;01mpass\u001b[39;00m\n\u001b[1;32m    387\u001b[0m     \u001b[38;5;28;01mcase\u001b[39;00m\u001b[38;5;250m \u001b[39m\u001b[38;5;28;01m_\u001b[39;00m:\n\u001b[1;32m    388\u001b[0m         \u001b[38;5;28;01mraise\u001b[39;00m \u001b[38;5;167;01mTypeError\u001b[39;00m(\n\u001b[1;32m    389\u001b[0m             \u001b[38;5;124m\"\u001b[39m\u001b[38;5;124m`data_config.save_dir` must be a str or path! Got \u001b[39m\u001b[38;5;124m\"\u001b[39m\n\u001b[0;32m--> 390\u001b[0m             \u001b[38;5;124mf\u001b[39m\u001b[38;5;124m\"\u001b[39m\u001b[38;5;132;01m{\u001b[39;00m\u001b[38;5;28mtype\u001b[39m(\u001b[38;5;28;43mself\u001b[39;49m\u001b[38;5;241;43m.\u001b[39;49m\u001b[43mdata_config\u001b[49m\u001b[38;5;241;43m.\u001b[39;49m\u001b[43msave_dir\u001b[49m)\u001b[38;5;132;01m}\u001b[39;00m\u001b[38;5;124m(\u001b[39m\u001b[38;5;132;01m{\u001b[39;00m\u001b[38;5;28mself\u001b[39m\u001b[38;5;241m.\u001b[39mdata_config\u001b[38;5;241m.\u001b[39msave_dir\u001b[38;5;132;01m}\u001b[39;00m\u001b[38;5;124m)\u001b[39m\u001b[38;5;124m\"\u001b[39m\n\u001b[1;32m    391\u001b[0m         )\n\u001b[1;32m    393\u001b[0m \u001b[38;5;28;01mif\u001b[39;00m (\n\u001b[1;32m    394\u001b[0m     \u001b[38;5;28mself\u001b[39m\u001b[38;5;241m.\u001b[39mdata_config\u001b[38;5;241m.\u001b[39mget(\u001b[38;5;124m\"\u001b[39m\u001b[38;5;124mtrain_subset_size\u001b[39m\u001b[38;5;124m\"\u001b[39m, \u001b[38;5;124m\"\u001b[39m\u001b[38;5;124mFULL\u001b[39m\u001b[38;5;124m\"\u001b[39m) \u001b[38;5;241m!=\u001b[39m \u001b[38;5;124m\"\u001b[39m\u001b[38;5;124mFULL\u001b[39m\u001b[38;5;124m\"\u001b[39m\n\u001b[1;32m    395\u001b[0m     \u001b[38;5;129;01mand\u001b[39;00m \u001b[38;5;28mself\u001b[39m\u001b[38;5;241m.\u001b[39mdata_config\u001b[38;5;241m.\u001b[39mget(\u001b[38;5;124m\"\u001b[39m\u001b[38;5;124mtrain_subset_seed\u001b[39m\u001b[38;5;124m\"\u001b[39m, \u001b[38;5;28;01mNone\u001b[39;00m) \u001b[38;5;129;01mis\u001b[39;00m \u001b[38;5;28;01mNone\u001b[39;00m\n\u001b[1;32m    396\u001b[0m ):\n\u001b[1;32m    397\u001b[0m     \u001b[38;5;28mself\u001b[39m\u001b[38;5;241m.\u001b[39mdata_config[\u001b[38;5;124m\"\u001b[39m\u001b[38;5;124mtrain_subset_seed\u001b[39m\u001b[38;5;124m\"\u001b[39m] \u001b[38;5;241m=\u001b[39m \u001b[38;5;28mint\u001b[39m(random\u001b[38;5;241m.\u001b[39mrandint(\u001b[38;5;241m1\u001b[39m, \u001b[38;5;28mint\u001b[39m(\u001b[38;5;241m1e6\u001b[39m)))\n",
      "\u001b[0;31mAttributeError\u001b[0m: 'dict' object has no attribute 'save_dir'"
     ]
    }
   ],
   "source": [
    "# Initialize the config, overwriting the `max_seq_len` argument to a smaller value for the `data_config` to\n",
    "# account for the elements you'll generate within the model's maximum sequence length.\n",
    "\n",
    "MODEL_DIR = '/home/filip-marcus/models/EventStreamGPT'\n",
    "TASK_DF_NAME = 'task_df_class_dist'\n",
    "\n",
    "cfg = FinetuneConfig(\n",
    "    load_from_model_dir=MODEL_DIR,\n",
    "    task_df_name=TASK_DF_NAME,\n",
    "#     data_config_overrides={\n",
    "#         \"max_seq_len\": 128,\n",
    "#         \"subsequence_sampling_strategy\": \"to_end\",\n",
    "#         \"do_include_start_time_min\": True,\n",
    "#         \"seq_padding_side\": \"left\",\n",
    "#     },\n",
    ")\n",
    "ESD = Dataset.load(cfg.data_config.save_dir)\n",
    "train_pyd = PytorchDataset(cfg.data_config, split=\"train\")\n",
    "\n",
    "M = ESTForGenerativeSequenceModeling.from_pretrained(\n",
    "    cfg.pretrained_weights_fp, config=cfg.config\n",
    ")\n",
    "sample_dataloader = DataLoader(\n",
    "    train_pyd, batch_size=1, collate_fn=train_pyd.collate, shuffle=False\n",
    ")\n",
    "sample_batch = next(iter(sample_dataloader))\n",
    "\n",
    "generated = M.generate(\n",
    "    sample_batch,\n",
    "    max_new_events=2,  # Note that this must be within the model's `max_seq_len` - the input data length\n",
    "    do_sample=True,\n",
    "    return_dict_in_generate=True,\n",
    "    output_scores=True,\n",
    ")\n",
    "\n",
    "# generated.batch contains an extended PytorchBatch object with both the original data and\n",
    "# the new, generated data"
   ]
  }
 ],
 "metadata": {
  "kernelspec": {
   "display_name": "Python (models_venv)",
   "language": "python",
   "name": "models_venv"
  },
  "language_info": {
   "codemirror_mode": {
    "name": "ipython",
    "version": 3
   },
   "file_extension": ".py",
   "mimetype": "text/x-python",
   "name": "python",
   "nbconvert_exporter": "python",
   "pygments_lexer": "ipython3",
   "version": "3.10.12"
  }
 },
 "nbformat": 4,
 "nbformat_minor": 5
}
